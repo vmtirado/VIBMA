{
 "cells": [
  {
   "cell_type": "code",
   "execution_count": 4,
   "metadata": {
    "id": "S4JVX_UO5CBU"
   },
   "outputs": [
    {
     "name": "stderr",
     "output_type": "stream",
     "text": [
      "2023-05-08 18:50:33.965879: I tensorflow/core/platform/cpu_feature_guard.cc:182] This TensorFlow binary is optimized to use available CPU instructions in performance-critical operations.\n",
      "To enable the following instructions: SSE4.1 SSE4.2 AVX AVX2 AVX_VNNI FMA, in other operations, rebuild TensorFlow with the appropriate compiler flags.\n"
     ]
    }
   ],
   "source": [
    "from sklearn.preprocessing import StandardScaler, MinMaxScaler \n",
    "from sklearn.model_selection import train_test_split\n",
    "import numpy as np\n",
    "import pandas as pd \n",
    "import tensorflow as tf"
   ]
  },
  {
   "cell_type": "code",
   "execution_count": 5,
   "metadata": {
    "colab": {
     "base_uri": "https://localhost:8080/",
     "height": 423
    },
    "id": "jWnk_2swwoIS",
    "outputId": "e1f22743-0647-47e8-8022-3cf703635a90"
   },
   "outputs": [
    {
     "data": {
      "text/html": [
       "<div>\n",
       "<style scoped>\n",
       "    .dataframe tbody tr th:only-of-type {\n",
       "        vertical-align: middle;\n",
       "    }\n",
       "\n",
       "    .dataframe tbody tr th {\n",
       "        vertical-align: top;\n",
       "    }\n",
       "\n",
       "    .dataframe thead th {\n",
       "        text-align: right;\n",
       "    }\n",
       "</style>\n",
       "<table border=\"1\" class=\"dataframe\">\n",
       "  <thead>\n",
       "    <tr style=\"text-align: right;\">\n",
       "      <th></th>\n",
       "      <th>FechaHora</th>\n",
       "      <th>NumPaquete</th>\n",
       "      <th>IdClient</th>\n",
       "      <th>ax</th>\n",
       "      <th>ay</th>\n",
       "      <th>az</th>\n",
       "      <th>gx</th>\n",
       "      <th>gy</th>\n",
       "      <th>gz</th>\n",
       "      <th>Actividad</th>\n",
       "    </tr>\n",
       "  </thead>\n",
       "  <tbody>\n",
       "    <tr>\n",
       "      <th>0</th>\n",
       "      <td>Mon Apr 17 21:16:34 2023</td>\n",
       "      <td>0.0</td>\n",
       "      <td>0.0</td>\n",
       "      <td>-7386.0</td>\n",
       "      <td>-774.0</td>\n",
       "      <td>1236.0</td>\n",
       "      <td>-3434.0</td>\n",
       "      <td>-1935.0</td>\n",
       "      <td>-25.0</td>\n",
       "      <td>2</td>\n",
       "    </tr>\n",
       "    <tr>\n",
       "      <th>1</th>\n",
       "      <td>Mon Apr 17 21:16:34 2023</td>\n",
       "      <td>1.0</td>\n",
       "      <td>0.0</td>\n",
       "      <td>-7296.0</td>\n",
       "      <td>-1046.0</td>\n",
       "      <td>1390.0</td>\n",
       "      <td>-3709.0</td>\n",
       "      <td>-1647.0</td>\n",
       "      <td>-14.0</td>\n",
       "      <td>2</td>\n",
       "    </tr>\n",
       "    <tr>\n",
       "      <th>2</th>\n",
       "      <td>Mon Apr 17 21:16:34 2023</td>\n",
       "      <td>2.0</td>\n",
       "      <td>0.0</td>\n",
       "      <td>-7370.0</td>\n",
       "      <td>-1150.0</td>\n",
       "      <td>1588.0</td>\n",
       "      <td>-3753.0</td>\n",
       "      <td>-1455.0</td>\n",
       "      <td>-178.0</td>\n",
       "      <td>2</td>\n",
       "    </tr>\n",
       "    <tr>\n",
       "      <th>3</th>\n",
       "      <td>Mon Apr 17 21:16:34 2023</td>\n",
       "      <td>3.0</td>\n",
       "      <td>0.0</td>\n",
       "      <td>-7494.0</td>\n",
       "      <td>-1212.0</td>\n",
       "      <td>1820.0</td>\n",
       "      <td>-3532.0</td>\n",
       "      <td>-1772.0</td>\n",
       "      <td>-286.0</td>\n",
       "      <td>2</td>\n",
       "    </tr>\n",
       "    <tr>\n",
       "      <th>4</th>\n",
       "      <td>Mon Apr 17 21:16:34 2023</td>\n",
       "      <td>4.0</td>\n",
       "      <td>0.0</td>\n",
       "      <td>-7566.0</td>\n",
       "      <td>-1248.0</td>\n",
       "      <td>1996.0</td>\n",
       "      <td>-3053.0</td>\n",
       "      <td>-2183.0</td>\n",
       "      <td>-365.0</td>\n",
       "      <td>2</td>\n",
       "    </tr>\n",
       "    <tr>\n",
       "      <th>...</th>\n",
       "      <td>...</td>\n",
       "      <td>...</td>\n",
       "      <td>...</td>\n",
       "      <td>...</td>\n",
       "      <td>...</td>\n",
       "      <td>...</td>\n",
       "      <td>...</td>\n",
       "      <td>...</td>\n",
       "      <td>...</td>\n",
       "      <td>...</td>\n",
       "    </tr>\n",
       "    <tr>\n",
       "      <th>6273</th>\n",
       "      <td>Mon Apr 17 21:18:15 2023</td>\n",
       "      <td>6273.0</td>\n",
       "      <td>0.0</td>\n",
       "      <td>-7610.0</td>\n",
       "      <td>1378.0</td>\n",
       "      <td>-1006.0</td>\n",
       "      <td>1799.0</td>\n",
       "      <td>-242.0</td>\n",
       "      <td>-996.0</td>\n",
       "      <td>1</td>\n",
       "    </tr>\n",
       "    <tr>\n",
       "      <th>6274</th>\n",
       "      <td>Mon Apr 17 21:18:15 2023</td>\n",
       "      <td>6274.0</td>\n",
       "      <td>0.0</td>\n",
       "      <td>-7688.0</td>\n",
       "      <td>1872.0</td>\n",
       "      <td>-1336.0</td>\n",
       "      <td>1824.0</td>\n",
       "      <td>-469.0</td>\n",
       "      <td>-1755.0</td>\n",
       "      <td>1</td>\n",
       "    </tr>\n",
       "    <tr>\n",
       "      <th>6275</th>\n",
       "      <td>Mon Apr 17 21:18:15 2023</td>\n",
       "      <td>6275.0</td>\n",
       "      <td>0.0</td>\n",
       "      <td>-8234.0</td>\n",
       "      <td>1694.0</td>\n",
       "      <td>-1870.0</td>\n",
       "      <td>980.0</td>\n",
       "      <td>-671.0</td>\n",
       "      <td>-1074.0</td>\n",
       "      <td>1</td>\n",
       "    </tr>\n",
       "    <tr>\n",
       "      <th>6276</th>\n",
       "      <td>Mon Apr 17 21:18:15 2023</td>\n",
       "      <td>6276.0</td>\n",
       "      <td>0.0</td>\n",
       "      <td>-8402.0</td>\n",
       "      <td>1420.0</td>\n",
       "      <td>-2032.0</td>\n",
       "      <td>-59.0</td>\n",
       "      <td>231.0</td>\n",
       "      <td>-266.0</td>\n",
       "      <td>1</td>\n",
       "    </tr>\n",
       "    <tr>\n",
       "      <th>6277</th>\n",
       "      <td>Mon Apr 17 21:18:15 2023</td>\n",
       "      <td>6277.0</td>\n",
       "      <td>0.0</td>\n",
       "      <td>-8084.0</td>\n",
       "      <td>950.0</td>\n",
       "      <td>-1626.0</td>\n",
       "      <td>-355.0</td>\n",
       "      <td>1049.0</td>\n",
       "      <td>48.0</td>\n",
       "      <td>1</td>\n",
       "    </tr>\n",
       "  </tbody>\n",
       "</table>\n",
       "<p>6278 rows × 10 columns</p>\n",
       "</div>"
      ],
      "text/plain": [
       "                     FechaHora  NumPaquete  IdClient      ax      ay      az  \\\n",
       "0     Mon Apr 17 21:16:34 2023         0.0       0.0 -7386.0  -774.0  1236.0   \n",
       "1     Mon Apr 17 21:16:34 2023         1.0       0.0 -7296.0 -1046.0  1390.0   \n",
       "2     Mon Apr 17 21:16:34 2023         2.0       0.0 -7370.0 -1150.0  1588.0   \n",
       "3     Mon Apr 17 21:16:34 2023         3.0       0.0 -7494.0 -1212.0  1820.0   \n",
       "4     Mon Apr 17 21:16:34 2023         4.0       0.0 -7566.0 -1248.0  1996.0   \n",
       "...                        ...         ...       ...     ...     ...     ...   \n",
       "6273  Mon Apr 17 21:18:15 2023      6273.0       0.0 -7610.0  1378.0 -1006.0   \n",
       "6274  Mon Apr 17 21:18:15 2023      6274.0       0.0 -7688.0  1872.0 -1336.0   \n",
       "6275  Mon Apr 17 21:18:15 2023      6275.0       0.0 -8234.0  1694.0 -1870.0   \n",
       "6276  Mon Apr 17 21:18:15 2023      6276.0       0.0 -8402.0  1420.0 -2032.0   \n",
       "6277  Mon Apr 17 21:18:15 2023      6277.0       0.0 -8084.0   950.0 -1626.0   \n",
       "\n",
       "          gx      gy      gz  Actividad  \n",
       "0    -3434.0 -1935.0   -25.0          2  \n",
       "1    -3709.0 -1647.0   -14.0          2  \n",
       "2    -3753.0 -1455.0  -178.0          2  \n",
       "3    -3532.0 -1772.0  -286.0          2  \n",
       "4    -3053.0 -2183.0  -365.0          2  \n",
       "...      ...     ...     ...        ...  \n",
       "6273  1799.0  -242.0  -996.0          1  \n",
       "6274  1824.0  -469.0 -1755.0          1  \n",
       "6275   980.0  -671.0 -1074.0          1  \n",
       "6276   -59.0   231.0  -266.0          1  \n",
       "6277  -355.0  1049.0    48.0          1  \n",
       "\n",
       "[6278 rows x 10 columns]"
      ]
     },
     "execution_count": 5,
     "metadata": {},
     "output_type": "execute_result"
    }
   ],
   "source": [
    "df= pd.read_csv('data/10tomaspordatoduplicadas-17-apr-2023.csv', sep=',',names=[\"FechaHora\", \"NumPaquete\", \"IdClient\", \"ax\",\"ay\",\"az\",\"gx\",\"gy\",\"gz\",\"Actividad\"])  \n",
    "df"
   ]
  },
  {
   "cell_type": "code",
   "execution_count": 6,
   "metadata": {
    "colab": {
     "base_uri": "https://localhost:8080/"
    },
    "id": "JOLaK6_c8vIi",
    "outputId": "5be66d7b-d1fc-4c54-c715-c441d47b49dc"
   },
   "outputs": [
    {
     "data": {
      "text/plain": [
       "FechaHora     Mon Apr 17 21:18:15 2023\n",
       "NumPaquete                      6277.0\n",
       "IdClient                           0.0\n",
       "ax                             32767.0\n",
       "ay                             27410.0\n",
       "az                             27626.0\n",
       "gx                             32767.0\n",
       "gy                             32767.0\n",
       "gz                             32767.0\n",
       "Actividad                            2\n",
       "dtype: object"
      ]
     },
     "execution_count": 6,
     "metadata": {},
     "output_type": "execute_result"
    }
   ],
   "source": [
    "df.max()"
   ]
  },
  {
   "cell_type": "markdown",
   "metadata": {
    "id": "WlDorNaDwSGS"
   },
   "source": [
    "## Normalization"
   ]
  },
  {
   "cell_type": "code",
   "execution_count": 7,
   "metadata": {
    "colab": {
     "base_uri": "https://localhost:8080/"
    },
    "id": "0Bl17PWuygo_",
    "outputId": "b759536c-526e-41df-be96-87645001eb62"
   },
   "outputs": [
    {
     "data": {
      "text/plain": [
       "FechaHora     Mon Apr 17 21:18:15 2023\n",
       "NumPaquete                      6277.0\n",
       "IdClient                           0.0\n",
       "ax                            3.999878\n",
       "ay                            3.345947\n",
       "az                            3.372314\n",
       "gx                          500.259542\n",
       "gy                          500.259542\n",
       "gz                          500.259542\n",
       "Actividad                            2\n",
       "dtype: object"
      ]
     },
     "execution_count": 7,
     "metadata": {},
     "output_type": "execute_result"
    }
   ],
   "source": [
    "# The acelerometer goes between -4g and +4g and the equivalent LSB is 8192\n",
    "df['ax']= df['ax']/8192\n",
    "df['ay']= df['ay']/8192\n",
    "df['az']= df['az']/8192\n",
    "\n",
    "\n",
    "# The gyroscope goes between -500 and 500 and the equivalent LSB is 65.5\n",
    "df['gx']= df['gx']/65.5\n",
    "df['gy']= df['gy']/65.5\n",
    "df['gz']= df['gz']/65.5\n",
    "df.max()"
   ]
  },
  {
   "cell_type": "code",
   "execution_count": 8,
   "metadata": {
    "colab": {
     "base_uri": "https://localhost:8080/"
    },
    "id": "6gFpLjdtAtMc",
    "outputId": "3aec8dfa-a9ba-4d66-c04b-0b4a851f59af"
   },
   "outputs": [
    {
     "data": {
      "text/plain": [
       "FechaHora     Mon Apr 17 21:18:15 2023\n",
       "NumPaquete                      6277.0\n",
       "IdClient                           0.0\n",
       "ax                                 1.0\n",
       "ay                                 1.0\n",
       "az                                 1.0\n",
       "gx                                 1.0\n",
       "gy                                 1.0\n",
       "gz                                 1.0\n",
       "Actividad                            2\n",
       "dtype: object"
      ]
     },
     "execution_count": 8,
     "metadata": {},
     "output_type": "execute_result"
    }
   ],
   "source": [
    "#After scalating the values we normalize\n",
    "#Aceleromter\n",
    "df['ax']=(df['ax'] - df['ax'].min()) / (df['ax'].max() - df['ax'].min())\n",
    "df['ay']=(df['ay'] - df['ay'].min()) / (df['ay'].max() - df['ay'].min())\n",
    "df['az']=(df['az'] - df['az'].min()) / (df['az'].max() - df['az'].min())\n",
    "#Gyroscope\n",
    "df['gx']=(df['gx'] - df['gx'].min()) / (df['gx'].max() - df['gx'].min())\n",
    "df['gy']=(df['gy'] - df['gy'].min()) / (df['gy'].max() - df['gy'].min())\n",
    "df['gz']=(df['gz'] - df['gz'].min()) / (df['gz'].max() - df['gz'].min())\n",
    "\n",
    "df.max()"
   ]
  },
  {
   "cell_type": "code",
   "execution_count": 9,
   "metadata": {
    "colab": {
     "base_uri": "https://localhost:8080/",
     "height": 423
    },
    "id": "vcOCLC9cBnPD",
    "outputId": "22111df6-92c8-4058-ab7b-9f7e91515596"
   },
   "outputs": [
    {
     "data": {
      "text/html": [
       "<div>\n",
       "<style scoped>\n",
       "    .dataframe tbody tr th:only-of-type {\n",
       "        vertical-align: middle;\n",
       "    }\n",
       "\n",
       "    .dataframe tbody tr th {\n",
       "        vertical-align: top;\n",
       "    }\n",
       "\n",
       "    .dataframe thead th {\n",
       "        text-align: right;\n",
       "    }\n",
       "</style>\n",
       "<table border=\"1\" class=\"dataframe\">\n",
       "  <thead>\n",
       "    <tr style=\"text-align: right;\">\n",
       "      <th></th>\n",
       "      <th>FechaHora</th>\n",
       "      <th>NumPaquete</th>\n",
       "      <th>IdClient</th>\n",
       "      <th>ax</th>\n",
       "      <th>ay</th>\n",
       "      <th>az</th>\n",
       "      <th>gx</th>\n",
       "      <th>gy</th>\n",
       "      <th>gz</th>\n",
       "      <th>Actividad</th>\n",
       "    </tr>\n",
       "  </thead>\n",
       "  <tbody>\n",
       "    <tr>\n",
       "      <th>0</th>\n",
       "      <td>Mon Apr 17 21:16:34 2023</td>\n",
       "      <td>0.0</td>\n",
       "      <td>0.0</td>\n",
       "      <td>0.387304</td>\n",
       "      <td>0.531656</td>\n",
       "      <td>0.563036</td>\n",
       "      <td>0.447608</td>\n",
       "      <td>0.470481</td>\n",
       "      <td>0.499626</td>\n",
       "      <td>2</td>\n",
       "    </tr>\n",
       "    <tr>\n",
       "      <th>1</th>\n",
       "      <td>Mon Apr 17 21:16:34 2023</td>\n",
       "      <td>1.0</td>\n",
       "      <td>0.0</td>\n",
       "      <td>0.388678</td>\n",
       "      <td>0.527136</td>\n",
       "      <td>0.565586</td>\n",
       "      <td>0.443412</td>\n",
       "      <td>0.474876</td>\n",
       "      <td>0.499794</td>\n",
       "      <td>2</td>\n",
       "    </tr>\n",
       "    <tr>\n",
       "      <th>2</th>\n",
       "      <td>Mon Apr 17 21:16:34 2023</td>\n",
       "      <td>2.0</td>\n",
       "      <td>0.0</td>\n",
       "      <td>0.387549</td>\n",
       "      <td>0.525408</td>\n",
       "      <td>0.568864</td>\n",
       "      <td>0.442741</td>\n",
       "      <td>0.477806</td>\n",
       "      <td>0.497292</td>\n",
       "      <td>2</td>\n",
       "    </tr>\n",
       "    <tr>\n",
       "      <th>3</th>\n",
       "      <td>Mon Apr 17 21:16:34 2023</td>\n",
       "      <td>3.0</td>\n",
       "      <td>0.0</td>\n",
       "      <td>0.385657</td>\n",
       "      <td>0.524378</td>\n",
       "      <td>0.572706</td>\n",
       "      <td>0.446113</td>\n",
       "      <td>0.472969</td>\n",
       "      <td>0.495644</td>\n",
       "      <td>2</td>\n",
       "    </tr>\n",
       "    <tr>\n",
       "      <th>4</th>\n",
       "      <td>Mon Apr 17 21:16:34 2023</td>\n",
       "      <td>4.0</td>\n",
       "      <td>0.0</td>\n",
       "      <td>0.384558</td>\n",
       "      <td>0.523779</td>\n",
       "      <td>0.575620</td>\n",
       "      <td>0.453422</td>\n",
       "      <td>0.466697</td>\n",
       "      <td>0.494438</td>\n",
       "      <td>2</td>\n",
       "    </tr>\n",
       "    <tr>\n",
       "      <th>...</th>\n",
       "      <td>...</td>\n",
       "      <td>...</td>\n",
       "      <td>...</td>\n",
       "      <td>...</td>\n",
       "      <td>...</td>\n",
       "      <td>...</td>\n",
       "      <td>...</td>\n",
       "      <td>...</td>\n",
       "      <td>...</td>\n",
       "      <td>...</td>\n",
       "    </tr>\n",
       "    <tr>\n",
       "      <th>6273</th>\n",
       "      <td>Mon Apr 17 21:18:15 2023</td>\n",
       "      <td>6273.0</td>\n",
       "      <td>0.0</td>\n",
       "      <td>0.383886</td>\n",
       "      <td>0.567417</td>\n",
       "      <td>0.525913</td>\n",
       "      <td>0.527459</td>\n",
       "      <td>0.496315</td>\n",
       "      <td>0.484810</td>\n",
       "      <td>1</td>\n",
       "    </tr>\n",
       "    <tr>\n",
       "      <th>6274</th>\n",
       "      <td>Mon Apr 17 21:18:15 2023</td>\n",
       "      <td>6274.0</td>\n",
       "      <td>0.0</td>\n",
       "      <td>0.382696</td>\n",
       "      <td>0.575626</td>\n",
       "      <td>0.520449</td>\n",
       "      <td>0.527840</td>\n",
       "      <td>0.492851</td>\n",
       "      <td>0.473228</td>\n",
       "      <td>1</td>\n",
       "    </tr>\n",
       "    <tr>\n",
       "      <th>6275</th>\n",
       "      <td>Mon Apr 17 21:18:15 2023</td>\n",
       "      <td>6275.0</td>\n",
       "      <td>0.0</td>\n",
       "      <td>0.374365</td>\n",
       "      <td>0.572668</td>\n",
       "      <td>0.511607</td>\n",
       "      <td>0.514961</td>\n",
       "      <td>0.489769</td>\n",
       "      <td>0.483619</td>\n",
       "      <td>1</td>\n",
       "    </tr>\n",
       "    <tr>\n",
       "      <th>6276</th>\n",
       "      <td>Mon Apr 17 21:18:15 2023</td>\n",
       "      <td>6276.0</td>\n",
       "      <td>0.0</td>\n",
       "      <td>0.371801</td>\n",
       "      <td>0.568115</td>\n",
       "      <td>0.508925</td>\n",
       "      <td>0.499107</td>\n",
       "      <td>0.503532</td>\n",
       "      <td>0.495949</td>\n",
       "      <td>1</td>\n",
       "    </tr>\n",
       "    <tr>\n",
       "      <th>6277</th>\n",
       "      <td>Mon Apr 17 21:18:15 2023</td>\n",
       "      <td>6277.0</td>\n",
       "      <td>0.0</td>\n",
       "      <td>0.376654</td>\n",
       "      <td>0.560304</td>\n",
       "      <td>0.515647</td>\n",
       "      <td>0.494591</td>\n",
       "      <td>0.516014</td>\n",
       "      <td>0.500740</td>\n",
       "      <td>1</td>\n",
       "    </tr>\n",
       "  </tbody>\n",
       "</table>\n",
       "<p>6278 rows × 10 columns</p>\n",
       "</div>"
      ],
      "text/plain": [
       "                     FechaHora  NumPaquete  IdClient        ax        ay  \\\n",
       "0     Mon Apr 17 21:16:34 2023         0.0       0.0  0.387304  0.531656   \n",
       "1     Mon Apr 17 21:16:34 2023         1.0       0.0  0.388678  0.527136   \n",
       "2     Mon Apr 17 21:16:34 2023         2.0       0.0  0.387549  0.525408   \n",
       "3     Mon Apr 17 21:16:34 2023         3.0       0.0  0.385657  0.524378   \n",
       "4     Mon Apr 17 21:16:34 2023         4.0       0.0  0.384558  0.523779   \n",
       "...                        ...         ...       ...       ...       ...   \n",
       "6273  Mon Apr 17 21:18:15 2023      6273.0       0.0  0.383886  0.567417   \n",
       "6274  Mon Apr 17 21:18:15 2023      6274.0       0.0  0.382696  0.575626   \n",
       "6275  Mon Apr 17 21:18:15 2023      6275.0       0.0  0.374365  0.572668   \n",
       "6276  Mon Apr 17 21:18:15 2023      6276.0       0.0  0.371801  0.568115   \n",
       "6277  Mon Apr 17 21:18:15 2023      6277.0       0.0  0.376654  0.560304   \n",
       "\n",
       "            az        gx        gy        gz  Actividad  \n",
       "0     0.563036  0.447608  0.470481  0.499626          2  \n",
       "1     0.565586  0.443412  0.474876  0.499794          2  \n",
       "2     0.568864  0.442741  0.477806  0.497292          2  \n",
       "3     0.572706  0.446113  0.472969  0.495644          2  \n",
       "4     0.575620  0.453422  0.466697  0.494438          2  \n",
       "...        ...       ...       ...       ...        ...  \n",
       "6273  0.525913  0.527459  0.496315  0.484810          1  \n",
       "6274  0.520449  0.527840  0.492851  0.473228          1  \n",
       "6275  0.511607  0.514961  0.489769  0.483619          1  \n",
       "6276  0.508925  0.499107  0.503532  0.495949          1  \n",
       "6277  0.515647  0.494591  0.516014  0.500740          1  \n",
       "\n",
       "[6278 rows x 10 columns]"
      ]
     },
     "execution_count": 9,
     "metadata": {},
     "output_type": "execute_result"
    }
   ],
   "source": [
    "df"
   ]
  },
  {
   "cell_type": "code",
   "execution_count": 10,
   "metadata": {},
   "outputs": [
    {
     "data": {
      "text/html": [
       "<div>\n",
       "<style scoped>\n",
       "    .dataframe tbody tr th:only-of-type {\n",
       "        vertical-align: middle;\n",
       "    }\n",
       "\n",
       "    .dataframe tbody tr th {\n",
       "        vertical-align: top;\n",
       "    }\n",
       "\n",
       "    .dataframe thead th {\n",
       "        text-align: right;\n",
       "    }\n",
       "</style>\n",
       "<table border=\"1\" class=\"dataframe\">\n",
       "  <thead>\n",
       "    <tr style=\"text-align: right;\">\n",
       "      <th></th>\n",
       "      <th>FechaHora</th>\n",
       "      <th>NumPaquete</th>\n",
       "      <th>IdClient</th>\n",
       "      <th>ax</th>\n",
       "      <th>ay</th>\n",
       "      <th>az</th>\n",
       "      <th>gx</th>\n",
       "      <th>gy</th>\n",
       "      <th>gz</th>\n",
       "    </tr>\n",
       "    <tr>\n",
       "      <th>Actividad</th>\n",
       "      <th></th>\n",
       "      <th></th>\n",
       "      <th></th>\n",
       "      <th></th>\n",
       "      <th></th>\n",
       "      <th></th>\n",
       "      <th></th>\n",
       "      <th></th>\n",
       "      <th></th>\n",
       "    </tr>\n",
       "  </thead>\n",
       "  <tbody>\n",
       "    <tr>\n",
       "      <th>0</th>\n",
       "      <td>2011</td>\n",
       "      <td>2011</td>\n",
       "      <td>2011</td>\n",
       "      <td>2011</td>\n",
       "      <td>2011</td>\n",
       "      <td>2011</td>\n",
       "      <td>2011</td>\n",
       "      <td>2011</td>\n",
       "      <td>2011</td>\n",
       "    </tr>\n",
       "    <tr>\n",
       "      <th>1</th>\n",
       "      <td>1893</td>\n",
       "      <td>1893</td>\n",
       "      <td>1893</td>\n",
       "      <td>1893</td>\n",
       "      <td>1893</td>\n",
       "      <td>1893</td>\n",
       "      <td>1893</td>\n",
       "      <td>1893</td>\n",
       "      <td>1893</td>\n",
       "    </tr>\n",
       "    <tr>\n",
       "      <th>2</th>\n",
       "      <td>2374</td>\n",
       "      <td>2374</td>\n",
       "      <td>2374</td>\n",
       "      <td>2374</td>\n",
       "      <td>2374</td>\n",
       "      <td>2374</td>\n",
       "      <td>2374</td>\n",
       "      <td>2374</td>\n",
       "      <td>2374</td>\n",
       "    </tr>\n",
       "  </tbody>\n",
       "</table>\n",
       "</div>"
      ],
      "text/plain": [
       "           FechaHora  NumPaquete  IdClient    ax    ay    az    gx    gy    gz\n",
       "Actividad                                                                     \n",
       "0               2011        2011      2011  2011  2011  2011  2011  2011  2011\n",
       "1               1893        1893      1893  1893  1893  1893  1893  1893  1893\n",
       "2               2374        2374      2374  2374  2374  2374  2374  2374  2374"
      ]
     },
     "execution_count": 10,
     "metadata": {},
     "output_type": "execute_result"
    }
   ],
   "source": [
    "df.groupby('Actividad').count()"
   ]
  },
  {
   "cell_type": "markdown",
   "metadata": {
    "id": "0DZebkbh0vqA"
   },
   "source": [
    "## Separating x and y"
   ]
  },
  {
   "cell_type": "code",
   "execution_count": 11,
   "metadata": {
    "colab": {
     "base_uri": "https://localhost:8080/"
    },
    "id": "0EtVIOTRs-Va",
    "outputId": "ca720db4-0b52-497d-95e0-fd16744eab80"
   },
   "outputs": [
    {
     "name": "stdout",
     "output_type": "stream",
     "text": [
      "[[0.38730449 0.53165609 0.56303606 0.44760815 0.47048142 0.49962615]\n",
      " [0.38867781 0.52713616 0.56558599 0.44341192 0.47487602 0.499794  ]\n",
      " [0.38754864 0.52540796 0.56886446 0.44274052 0.47780575 0.49729152]\n",
      " ...\n",
      " [0.37436484 0.57266775 0.51160711 0.51496147 0.48976883 0.48361944]\n",
      " [0.37180133 0.56811459 0.50892473 0.49910735 0.50353246 0.49594873]\n",
      " [0.3766537  0.56030443 0.51564725 0.49459068 0.51601434 0.50074006]]\n",
      "[[0 0 1]\n",
      " [0 0 1]\n",
      " [0 0 1]\n",
      " ...\n",
      " [0 1 0]\n",
      " [0 1 0]\n",
      " [0 1 0]]\n",
      "(6278, 6)\n",
      "(6278, 3)\n"
     ]
    }
   ],
   "source": [
    "X=df.iloc[:,3:9].values\n",
    "y=pd.get_dummies(df.iloc[:,-1].values)\n",
    "y=np.array(y)\n",
    "print(X)\n",
    "print(y)\n",
    "print(X.shape)\n",
    "print(y.shape)"
   ]
  },
  {
   "cell_type": "markdown",
   "metadata": {
    "id": "-upJ_jcNCYqj"
   },
   "source": [
    "## Train and test split"
   ]
  },
  {
   "cell_type": "code",
   "execution_count": 12,
   "metadata": {
    "id": "dG2RfkCxCbXR"
   },
   "outputs": [],
   "source": [
    "X_train, X_test, y_train, y_test  = train_test_split(X, y, test_size=0.2, random_state=23)"
   ]
  },
  {
   "cell_type": "markdown",
   "metadata": {
    "id": "KyPSrZfDB24T"
   },
   "source": [
    "#Creating the neural network "
   ]
  },
  {
   "cell_type": "code",
   "execution_count": 13,
   "metadata": {
    "colab": {
     "base_uri": "https://localhost:8080/"
    },
    "id": "Nd7j3Npa8Pph",
    "outputId": "773bc94b-9fd4-476c-dc59-99662276ae04"
   },
   "outputs": [
    {
     "name": "stdout",
     "output_type": "stream",
     "text": [
      "Epoch 1/100\n"
     ]
    },
    {
     "name": "stderr",
     "output_type": "stream",
     "text": [
      "2023-05-08 18:50:49.849281: I tensorflow/core/common_runtime/process_util.cc:146] Creating new thread pool with default inter op setting: 2. Tune using inter_op_parallelism_threads for best performance.\n"
     ]
    },
    {
     "name": "stdout",
     "output_type": "stream",
     "text": [
      "5022/5022 [==============================] - 4s 689us/step - loss: 0.1786 - mae: 0.3746 - accuracy: 0.5876\n",
      "Epoch 2/100\n",
      "5022/5022 [==============================] - 4s 724us/step - loss: 0.1270 - mae: 0.2666 - accuracy: 0.7047\n",
      "Epoch 3/100\n",
      "5022/5022 [==============================] - 4s 710us/step - loss: 0.1135 - mae: 0.2309 - accuracy: 0.7352\n",
      "Epoch 4/100\n",
      "5022/5022 [==============================] - 3s 657us/step - loss: 0.1048 - mae: 0.2142 - accuracy: 0.7545\n",
      "Epoch 5/100\n",
      "5022/5022 [==============================] - 3s 679us/step - loss: 0.0980 - mae: 0.2020 - accuracy: 0.7684\n",
      "Epoch 6/100\n",
      "5022/5022 [==============================] - 3s 653us/step - loss: 0.0915 - mae: 0.1893 - accuracy: 0.7806\n",
      "Epoch 7/100\n",
      "5022/5022 [==============================] - 3s 680us/step - loss: 0.0885 - mae: 0.1826 - accuracy: 0.7865\n",
      "Epoch 8/100\n",
      "5022/5022 [==============================] - 3s 681us/step - loss: 0.0858 - mae: 0.1745 - accuracy: 0.7939\n",
      "Epoch 9/100\n",
      "5022/5022 [==============================] - 3s 665us/step - loss: 0.0850 - mae: 0.1699 - accuracy: 0.7937\n",
      "Epoch 10/100\n",
      "5022/5022 [==============================] - 3s 664us/step - loss: 0.0824 - mae: 0.1644 - accuracy: 0.8005\n",
      "Epoch 11/100\n",
      "5022/5022 [==============================] - 3s 680us/step - loss: 0.0810 - mae: 0.1607 - accuracy: 0.8088\n",
      "Epoch 12/100\n",
      "5022/5022 [==============================] - 4s 722us/step - loss: 0.0793 - mae: 0.1566 - accuracy: 0.8174\n",
      "Epoch 13/100\n",
      "5022/5022 [==============================] - 3s 688us/step - loss: 0.0800 - mae: 0.1551 - accuracy: 0.8132\n",
      "Epoch 14/100\n",
      "5022/5022 [==============================] - 3s 660us/step - loss: 0.0782 - mae: 0.1517 - accuracy: 0.8156\n",
      "Epoch 15/100\n",
      "5022/5022 [==============================] - 3s 658us/step - loss: 0.0787 - mae: 0.1503 - accuracy: 0.8144\n",
      "Epoch 16/100\n",
      "5022/5022 [==============================] - 3s 672us/step - loss: 0.0787 - mae: 0.1478 - accuracy: 0.8128\n",
      "Epoch 17/100\n",
      "5022/5022 [==============================] - 3s 697us/step - loss: 0.0792 - mae: 0.1495 - accuracy: 0.8116\n",
      "Epoch 18/100\n",
      "5022/5022 [==============================] - 3s 669us/step - loss: 0.0777 - mae: 0.1466 - accuracy: 0.8146\n",
      "Epoch 19/100\n",
      "5022/5022 [==============================] - 3s 689us/step - loss: 0.0773 - mae: 0.1444 - accuracy: 0.8174\n",
      "Epoch 20/100\n",
      "5022/5022 [==============================] - 3s 648us/step - loss: 0.0753 - mae: 0.1392 - accuracy: 0.8286\n",
      "Epoch 21/100\n",
      "5022/5022 [==============================] - 3s 662us/step - loss: 0.0754 - mae: 0.1379 - accuracy: 0.8252\n",
      "Epoch 22/100\n",
      "5022/5022 [==============================] - 3s 662us/step - loss: 0.0762 - mae: 0.1392 - accuracy: 0.8220\n",
      "Epoch 23/100\n",
      "5022/5022 [==============================] - 3s 678us/step - loss: 0.0765 - mae: 0.1388 - accuracy: 0.8206\n",
      "Epoch 24/100\n",
      "5022/5022 [==============================] - 4s 704us/step - loss: 0.0754 - mae: 0.1376 - accuracy: 0.8244\n",
      "Epoch 25/100\n",
      "5022/5022 [==============================] - 3s 661us/step - loss: 0.0754 - mae: 0.1379 - accuracy: 0.8270\n",
      "Epoch 26/100\n",
      "5022/5022 [==============================] - 3s 678us/step - loss: 0.0738 - mae: 0.1328 - accuracy: 0.8276\n",
      "Epoch 27/100\n",
      "5022/5022 [==============================] - 3s 682us/step - loss: 0.0741 - mae: 0.1304 - accuracy: 0.8361\n",
      "Epoch 28/100\n",
      "5022/5022 [==============================] - 3s 697us/step - loss: 0.0733 - mae: 0.1313 - accuracy: 0.8282\n",
      "Epoch 29/100\n",
      "5022/5022 [==============================] - 3s 692us/step - loss: 0.0743 - mae: 0.1336 - accuracy: 0.8278\n",
      "Epoch 30/100\n",
      "5022/5022 [==============================] - 3s 677us/step - loss: 0.0746 - mae: 0.1331 - accuracy: 0.8262\n",
      "Epoch 31/100\n",
      "5022/5022 [==============================] - 3s 683us/step - loss: 0.0736 - mae: 0.1280 - accuracy: 0.8335\n",
      "Epoch 32/100\n",
      "5022/5022 [==============================] - 3s 671us/step - loss: 0.0734 - mae: 0.1274 - accuracy: 0.8337\n",
      "Epoch 33/100\n",
      "5022/5022 [==============================] - 3s 692us/step - loss: 0.0730 - mae: 0.1279 - accuracy: 0.8351\n",
      "Epoch 34/100\n",
      "5022/5022 [==============================] - 3s 679us/step - loss: 0.0717 - mae: 0.1256 - accuracy: 0.8383\n",
      "Epoch 35/100\n",
      "5022/5022 [==============================] - 3s 687us/step - loss: 0.0730 - mae: 0.1272 - accuracy: 0.8313\n",
      "Epoch 36/100\n",
      "5022/5022 [==============================] - 3s 667us/step - loss: 0.0724 - mae: 0.1250 - accuracy: 0.8393\n",
      "Epoch 37/100\n",
      "5022/5022 [==============================] - 3s 674us/step - loss: 0.0722 - mae: 0.1244 - accuracy: 0.8371\n",
      "Epoch 38/100\n",
      "5022/5022 [==============================] - 3s 651us/step - loss: 0.0718 - mae: 0.1225 - accuracy: 0.8401\n",
      "Epoch 39/100\n",
      "5022/5022 [==============================] - 3s 642us/step - loss: 0.0719 - mae: 0.1237 - accuracy: 0.8339\n",
      "Epoch 40/100\n",
      "5022/5022 [==============================] - 3s 688us/step - loss: 0.0714 - mae: 0.1222 - accuracy: 0.8393\n",
      "Epoch 41/100\n",
      "5022/5022 [==============================] - 3s 641us/step - loss: 0.0728 - mae: 0.1243 - accuracy: 0.8329\n",
      "Epoch 42/100\n",
      "5022/5022 [==============================] - 3s 680us/step - loss: 0.0703 - mae: 0.1206 - accuracy: 0.8441\n",
      "Epoch 43/100\n",
      "5022/5022 [==============================] - 4s 709us/step - loss: 0.0712 - mae: 0.1228 - accuracy: 0.8377\n",
      "Epoch 44/100\n",
      "5022/5022 [==============================] - 3s 660us/step - loss: 0.0696 - mae: 0.1206 - accuracy: 0.8435\n",
      "Epoch 45/100\n",
      "5022/5022 [==============================] - 3s 673us/step - loss: 0.0704 - mae: 0.1192 - accuracy: 0.8447\n",
      "Epoch 46/100\n",
      "5022/5022 [==============================] - 3s 696us/step - loss: 0.0697 - mae: 0.1187 - accuracy: 0.8477\n",
      "Epoch 47/100\n",
      "5022/5022 [==============================] - 3s 661us/step - loss: 0.0697 - mae: 0.1202 - accuracy: 0.8453\n",
      "Epoch 48/100\n",
      "5022/5022 [==============================] - 3s 671us/step - loss: 0.0673 - mae: 0.1164 - accuracy: 0.8515\n",
      "Epoch 49/100\n",
      "5022/5022 [==============================] - 3s 664us/step - loss: 0.0673 - mae: 0.1157 - accuracy: 0.8487\n",
      "Epoch 50/100\n",
      "5022/5022 [==============================] - 3s 653us/step - loss: 0.0651 - mae: 0.1134 - accuracy: 0.8548\n",
      "Epoch 51/100\n",
      "5022/5022 [==============================] - 4s 707us/step - loss: 0.0660 - mae: 0.1168 - accuracy: 0.8521\n",
      "Epoch 52/100\n",
      "5022/5022 [==============================] - 3s 646us/step - loss: 0.0644 - mae: 0.1134 - accuracy: 0.8590\n",
      "Epoch 53/100\n",
      "5022/5022 [==============================] - 3s 687us/step - loss: 0.0629 - mae: 0.1090 - accuracy: 0.8676\n",
      "Epoch 54/100\n",
      "5022/5022 [==============================] - 3s 674us/step - loss: 0.0633 - mae: 0.1119 - accuracy: 0.8552\n",
      "Epoch 55/100\n",
      "5022/5022 [==============================] - 4s 724us/step - loss: 0.0637 - mae: 0.1120 - accuracy: 0.8580\n",
      "Epoch 56/100\n",
      "5022/5022 [==============================] - 3s 676us/step - loss: 0.0642 - mae: 0.1098 - accuracy: 0.8604\n",
      "Epoch 57/100\n",
      "5022/5022 [==============================] - 3s 658us/step - loss: 0.0639 - mae: 0.1096 - accuracy: 0.8608\n",
      "Epoch 58/100\n",
      "5022/5022 [==============================] - 3s 686us/step - loss: 0.0636 - mae: 0.1088 - accuracy: 0.8618\n",
      "Epoch 59/100\n",
      "5022/5022 [==============================] - 3s 652us/step - loss: 0.0632 - mae: 0.1075 - accuracy: 0.8642\n",
      "Epoch 60/100\n",
      "5022/5022 [==============================] - 3s 654us/step - loss: 0.0623 - mae: 0.1080 - accuracy: 0.8638\n",
      "Epoch 61/100\n",
      "5022/5022 [==============================] - 4s 709us/step - loss: 0.0626 - mae: 0.1075 - accuracy: 0.8636\n",
      "Epoch 62/100\n",
      "5022/5022 [==============================] - 3s 654us/step - loss: 0.0641 - mae: 0.1095 - accuracy: 0.8590\n",
      "Epoch 63/100\n",
      "5022/5022 [==============================] - 4s 698us/step - loss: 0.0625 - mae: 0.1051 - accuracy: 0.8622\n",
      "Epoch 64/100\n",
      "5022/5022 [==============================] - 3s 653us/step - loss: 0.0632 - mae: 0.1076 - accuracy: 0.8636\n",
      "Epoch 65/100\n",
      "5022/5022 [==============================] - 3s 677us/step - loss: 0.0611 - mae: 0.1036 - accuracy: 0.8684\n",
      "Epoch 66/100\n",
      "5022/5022 [==============================] - 4s 699us/step - loss: 0.0619 - mae: 0.1045 - accuracy: 0.8676\n",
      "Epoch 67/100\n",
      "5022/5022 [==============================] - 3s 641us/step - loss: 0.0620 - mae: 0.1029 - accuracy: 0.8646\n",
      "Epoch 68/100\n",
      "5022/5022 [==============================] - 3s 666us/step - loss: 0.0643 - mae: 0.1057 - accuracy: 0.8602\n",
      "Epoch 69/100\n",
      "5022/5022 [==============================] - 3s 659us/step - loss: 0.0625 - mae: 0.1050 - accuracy: 0.8650\n",
      "Epoch 70/100\n",
      "5022/5022 [==============================] - 3s 688us/step - loss: 0.0609 - mae: 0.1020 - accuracy: 0.8708\n",
      "Epoch 71/100\n",
      "5022/5022 [==============================] - 3s 647us/step - loss: 0.0626 - mae: 0.1016 - accuracy: 0.8698\n",
      "Epoch 72/100\n",
      "5022/5022 [==============================] - 4s 701us/step - loss: 0.0637 - mae: 0.1047 - accuracy: 0.8596\n",
      "Epoch 73/100\n",
      "5022/5022 [==============================] - 3s 673us/step - loss: 0.0620 - mae: 0.1024 - accuracy: 0.8692\n",
      "Epoch 74/100\n",
      "5022/5022 [==============================] - 3s 693us/step - loss: 0.0611 - mae: 0.1015 - accuracy: 0.8720\n",
      "Epoch 75/100\n",
      "5022/5022 [==============================] - 3s 681us/step - loss: 0.0621 - mae: 0.1027 - accuracy: 0.8678\n",
      "Epoch 76/100\n",
      "5022/5022 [==============================] - 3s 651us/step - loss: 0.0615 - mae: 0.1023 - accuracy: 0.8686\n",
      "Epoch 77/100\n",
      "5022/5022 [==============================] - 3s 672us/step - loss: 0.0602 - mae: 0.0994 - accuracy: 0.8734\n",
      "Epoch 78/100\n",
      "5022/5022 [==============================] - 3s 655us/step - loss: 0.0624 - mae: 0.1023 - accuracy: 0.8652\n",
      "Epoch 79/100\n",
      "5022/5022 [==============================] - 3s 622us/step - loss: 0.0632 - mae: 0.1026 - accuracy: 0.8636\n",
      "Epoch 80/100\n",
      "5022/5022 [==============================] - 3s 671us/step - loss: 0.0637 - mae: 0.1011 - accuracy: 0.8640\n",
      "Epoch 81/100\n",
      "5022/5022 [==============================] - 3s 645us/step - loss: 0.0635 - mae: 0.1007 - accuracy: 0.8650\n",
      "Epoch 82/100\n",
      "5022/5022 [==============================] - 3s 657us/step - loss: 0.0631 - mae: 0.1017 - accuracy: 0.8670\n",
      "Epoch 83/100\n",
      "5022/5022 [==============================] - 3s 662us/step - loss: 0.0641 - mae: 0.1018 - accuracy: 0.8674\n",
      "Epoch 84/100\n",
      "5022/5022 [==============================] - 3s 673us/step - loss: 0.0621 - mae: 0.1003 - accuracy: 0.8718\n",
      "Epoch 85/100\n",
      "5022/5022 [==============================] - 3s 675us/step - loss: 0.0617 - mae: 0.1002 - accuracy: 0.8680\n",
      "Epoch 86/100\n",
      "5022/5022 [==============================] - 3s 683us/step - loss: 0.0632 - mae: 0.1024 - accuracy: 0.8622\n",
      "Epoch 87/100\n",
      "5022/5022 [==============================] - 3s 659us/step - loss: 0.0624 - mae: 0.0996 - accuracy: 0.8672\n",
      "Epoch 88/100\n",
      "5022/5022 [==============================] - 3s 675us/step - loss: 0.0643 - mae: 0.1003 - accuracy: 0.8676\n",
      "Epoch 89/100\n",
      "5022/5022 [==============================] - 3s 680us/step - loss: 0.0670 - mae: 0.1023 - accuracy: 0.8624\n",
      "Epoch 90/100\n",
      "5022/5022 [==============================] - 4s 703us/step - loss: 0.0655 - mae: 0.1029 - accuracy: 0.8622\n",
      "Epoch 91/100\n",
      "5022/5022 [==============================] - 3s 643us/step - loss: 0.0658 - mae: 0.1031 - accuracy: 0.8608\n",
      "Epoch 92/100\n",
      "5022/5022 [==============================] - 3s 683us/step - loss: 0.0652 - mae: 0.1035 - accuracy: 0.8628\n",
      "Epoch 93/100\n",
      "5022/5022 [==============================] - 3s 670us/step - loss: 0.0687 - mae: 0.1045 - accuracy: 0.8560\n",
      "Epoch 94/100\n",
      "5022/5022 [==============================] - 3s 691us/step - loss: 0.0680 - mae: 0.1036 - accuracy: 0.8600\n",
      "Epoch 95/100\n",
      "5022/5022 [==============================] - 3s 690us/step - loss: 0.0693 - mae: 0.1063 - accuracy: 0.8582\n",
      "Epoch 96/100\n",
      "5022/5022 [==============================] - 3s 682us/step - loss: 0.0653 - mae: 0.1019 - accuracy: 0.8646\n",
      "Epoch 97/100\n",
      "5022/5022 [==============================] - 3s 675us/step - loss: 0.0669 - mae: 0.1002 - accuracy: 0.8630\n",
      "Epoch 98/100\n",
      "5022/5022 [==============================] - 3s 659us/step - loss: 0.0688 - mae: 0.1022 - accuracy: 0.8606\n",
      "Epoch 99/100\n",
      "5022/5022 [==============================] - 3s 655us/step - loss: 0.0657 - mae: 0.1017 - accuracy: 0.8650\n",
      "Epoch 100/100\n",
      "5022/5022 [==============================] - 3s 669us/step - loss: 0.0677 - mae: 0.1008 - accuracy: 0.8636\n"
     ]
    }
   ],
   "source": [
    "# build the model and train it\n",
    "model = tf.keras.Sequential()\n",
    "model.add(tf.keras.layers.Dense(50, activation='relu')) # relu is used for performance\n",
    "model.add(tf.keras.layers.Dense(15, activation='relu'))\n",
    "model.add(tf.keras.layers.Dense(3, activation='softmax')) # softmax is used, because we only expect one gesture to occur per input\n",
    "model.compile(optimizer='rmsprop', loss='mse', metrics=['mae','accuracy'])\n",
    "history = model.fit(X_train, y_train, epochs=100, batch_size=1)"
   ]
  },
  {
   "cell_type": "code",
   "execution_count": 20,
   "metadata": {},
   "outputs": [
    {
     "name": "stdout",
     "output_type": "stream",
     "text": [
      "40/40 [==============================] - 0s 605us/step\n",
      "predictions =\n",
      " [[0.785 0.    0.215]\n",
      " [0.827 0.002 0.171]\n",
      " [1.    0.    0.   ]\n",
      " ...\n",
      " [0.931 0.069 0.   ]\n",
      " [0.    0.002 0.998]\n",
      " [0.438 0.539 0.023]]\n",
      "actual =\n",
      " [[1 0 0]\n",
      " [1 0 0]\n",
      " [1 0 0]\n",
      " ...\n",
      " [1 0 0]\n",
      " [0 0 1]\n",
      " [1 0 0]]\n",
      "(1256, 6)\n",
      "(1256, 3)\n"
     ]
    }
   ],
   "source": [
    "# use the model to predict the test inputs\n",
    "y_pred = model.predict(X_test)\n",
    "\n",
    "# print the predictions and the expected ouputs\n",
    "print(\"predictions =\\n\", np.round(y_pred, decimals=3))\n",
    "print(\"actual =\\n\", y_test)\n",
    "print(X_test.shape)\n",
    "print(y_pred.shape)"
   ]
  },
  {
   "cell_type": "code",
   "execution_count": 21,
   "metadata": {},
   "outputs": [
    {
     "name": "stdout",
     "output_type": "stream",
     "text": [
      "predictions =\n",
      " [[1. 0. 0.]\n",
      " [1. 0. 0.]\n",
      " [1. 0. 0.]\n",
      " ...\n",
      " [1. 0. 0.]\n",
      " [0. 0. 1.]\n",
      " [0. 1. 0.]]\n",
      "actual =\n",
      " [[1 0 0]\n",
      " [1 0 0]\n",
      " [1 0 0]\n",
      " ...\n",
      " [1 0 0]\n",
      " [0 0 1]\n",
      " [1 0 0]]\n"
     ]
    }
   ],
   "source": [
    "#Transforming y pred to 1 and 0\n",
    "y_pred=(y_pred == y_pred.max(axis=1, keepdims=1)).astype(float)\n",
    "print(\"predictions =\\n\", np.round(y_pred, decimals=3))\n",
    "print(\"actual =\\n\", y_test)"
   ]
  },
  {
   "cell_type": "code",
   "execution_count": 22,
   "metadata": {},
   "outputs": [],
   "source": [
    "def undecode(twodimesnional_array):\n",
    "    decoded_array=np.zeros(twodimesnional_array.shape[0])\n",
    "    #print(decoded_array)\n",
    "    cont=0\n",
    "    for row in twodimesnional_array:\n",
    "        #print(row)\n",
    "        for i in range(len(row)):\n",
    "            if row[i]==1.0:\n",
    "                decoded_array[cont]=int(i)\n",
    "        #print(decoded_array[cont])\n",
    "        cont=cont+1\n",
    "   \n",
    "    return decoded_array"
   ]
  },
  {
   "cell_type": "code",
   "execution_count": 23,
   "metadata": {},
   "outputs": [
    {
     "name": "stdout",
     "output_type": "stream",
     "text": [
      "[0. 0. 0. ... 0. 2. 1.]\n"
     ]
    }
   ],
   "source": [
    "y_pred_decoded=undecode(y_pred)\n",
    "print(y_pred_decoded)"
   ]
  },
  {
   "cell_type": "code",
   "execution_count": 24,
   "metadata": {},
   "outputs": [
    {
     "name": "stdout",
     "output_type": "stream",
     "text": [
      "[0. 0. 0. ... 0. 2. 0.]\n"
     ]
    }
   ],
   "source": [
    "y_test_undecoded=undecode(y_test)\n",
    "print(y_test_undecoded)"
   ]
  },
  {
   "cell_type": "code",
   "execution_count": 25,
   "metadata": {},
   "outputs": [
    {
     "name": "stdout",
     "output_type": "stream",
     "text": [
      "[[310   3  79]\n",
      " [  6 404   4]\n",
      " [ 43   8 399]]\n"
     ]
    },
    {
     "data": {
      "text/plain": [
       "0.8861464968152867"
      ]
     },
     "execution_count": 25,
     "metadata": {},
     "output_type": "execute_result"
    }
   ],
   "source": [
    "from sklearn.metrics import confusion_matrix, accuracy_score\n",
    "cm = confusion_matrix(y_test_undecoded, y_pred_decoded)\n",
    "print(cm)\n",
    "accuracy_score(y_test_undecoded, y_pred_decoded)"
   ]
  },
  {
   "cell_type": "markdown",
   "metadata": {},
   "source": [
    " # Generate a TensorFlow Lite Model"
   ]
  },
  {
   "cell_type": "code",
   "execution_count": 27,
   "metadata": {},
   "outputs": [
    {
     "name": "stderr",
     "output_type": "stream",
     "text": [
      "WARNING:absl:Found untraced functions such as _update_step_xla while saving (showing 1 of 1). These functions will not be directly callable after loading.\n",
      "2023-05-08 19:26:07.638649: I tensorflow/core/grappler/devices.cc:75] Number of eligible GPUs (core count >= 8, compute capability >= 0.0): 0 (Note: TensorFlow was not compiled with CUDA or ROCm support)\n",
      "2023-05-08 19:26:07.638733: I tensorflow/core/grappler/clusters/single_machine.cc:358] Starting new session\n",
      "2023-05-08 19:26:07.653827: W tensorflow/compiler/mlir/lite/python/tf_tfl_flatbuffer_helpers.cc:364] Ignored output_format.\n",
      "2023-05-08 19:26:07.653848: W tensorflow/compiler/mlir/lite/python/tf_tfl_flatbuffer_helpers.cc:367] Ignored drop_control_dependency.\n",
      "2023-05-08 19:26:07.662678: I tensorflow/compiler/mlir/lite/flatbuffer_export.cc:2116] Estimated count of arithmetic ops: 2450  ops, equivalently 1225  MACs\n"
     ]
    },
    {
     "data": {
      "text/plain": [
       "6516"
      ]
     },
     "execution_count": 27,
     "metadata": {},
     "output_type": "execute_result"
    }
   ],
   "source": [
    "# Convert the model to the TensorFlow Lite format without quantization\n",
    "converter = tf.lite.TFLiteConverter.from_keras_model(model)\n",
    "model_no_quant_tflite = converter.convert()\n",
    "\n",
    "# Save the model to disk\n",
    "open(\"converted_model_noquant.tflite\", \"wb\").write(model_no_quant_tflite)\n",
    "\n",
    "# Convert the model to the TensorFlow Lite format with quantization\n",
    "#def representative_dataset():\n",
    "#  for i in range(500):\n",
    "#    yield([x_train[i].reshape(1, 1)])\n",
    "# Set the optimization flag.\n",
    "#converter.optimizations = [tf.lite.Optimize.DEFAULT]\n",
    "# Enforce integer only quantization\n",
    "#converter.target_spec.supported_ops = [tf.lite.OpsSet.TFLITE_BUILTINS_INT8]\n",
    "#converter.inference_input_type = tf.int8\n",
    "#converter.inference_output_type = tf.int8\n",
    "# Provide a representative dataset to ensure we quantize correctly.\n",
    "#converter.representative_dataset = representative_dataset\n",
    "#model_tflite = converter.convert()\n",
    "\n",
    "# Save the model to disk\n",
    "#open(\"esp_split1/converted_model_split1.tflite\", \"wb\").write(model_tflite)"
   ]
  },
  {
   "cell_type": "markdown",
   "metadata": {},
   "source": [
    "# To convert to C++\n",
    "We can then run this command to convert the model to c code.\n",
    "\n",
    "xxd -i converted_model.tflite > model_data.cc"
   ]
  },
  {
   "cell_type": "code",
   "execution_count": null,
   "metadata": {},
   "outputs": [],
   "source": []
  }
 ],
 "metadata": {
  "accelerator": "GPU",
  "colab": {
   "provenance": []
  },
  "gpuClass": "standard",
  "kernelspec": {
   "display_name": "Python 3 (ipykernel)",
   "language": "python",
   "name": "python3"
  },
  "language_info": {
   "codemirror_mode": {
    "name": "ipython",
    "version": 3
   },
   "file_extension": ".py",
   "mimetype": "text/x-python",
   "name": "python",
   "nbconvert_exporter": "python",
   "pygments_lexer": "ipython3",
   "version": "3.11.3"
  },
  "vscode": {
   "interpreter": {
    "hash": "b89d5d70a95e49b0e241935d7edd2a1252b6e533be702a80d61a93814d9cf471"
   }
  }
 },
 "nbformat": 4,
 "nbformat_minor": 4
}
